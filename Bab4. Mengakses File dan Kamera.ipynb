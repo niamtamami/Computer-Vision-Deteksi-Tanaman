{
 "cells": [
  {
   "cell_type": "code",
   "execution_count": 3,
   "metadata": {},
   "outputs": [
    {
     "name": "stdout",
     "output_type": "stream",
     "text": [
      "CV_CAP_PROP_FRAME_WIDTH: '640.0'\n",
      "CV_CAP_PROP_FRAME_HEIGHT : '480.0'\n",
      "CAP_PROP_FPS : '30.0'\n"
     ]
    }
   ],
   "source": [
    "import cv2\n",
    "\n",
    "# inisiasi index kamera\n",
    "# index kamera = 0 merujuk pada kamera default yang ada pada komputer\n",
    "# index kamera bisa bernilai 0,1,2 .. dst, bergantung berapa kamera yang berhasil dideteksi komputer\n",
    "indexKamera = 0\n",
    "capture = cv2.VideoCapture(indexKamera)\n",
    "\n",
    "# mendapatkan parameter pengambilan video, yaitu\n",
    "# tinggi, lebar, dan fps\n",
    "frame_width = capture.get(cv2.CAP_PROP_FRAME_WIDTH)\n",
    "frame_height = capture.get(cv2.CAP_PROP_FRAME_HEIGHT)\n",
    "fps = capture.get(cv2.CAP_PROP_FPS)\n",
    "print(\"CV_CAP_PROP_FRAME_WIDTH: '{}'\".format(frame_width))\n",
    "print(\"CV_CAP_PROP_FRAME_HEIGHT : '{}'\".format(frame_height))\n",
    "print(\"CAP_PROP_FPS : '{}'\".format(fps))\n",
    "\n",
    "# memastikan apakah kamera berhasil di buka\n",
    "if capture.isOpened() is False:\n",
    "    print(\"Error opening the camera\")\n",
    "\n",
    "# membaca kamera dalam bentuk video\n",
    "frame_index = 0\n",
    "while capture.isOpened():\n",
    "    # menangkap tiap frame dari kamera\n",
    "    ret, frame = capture.read()\n",
    "    if ret is True:\n",
    "        # menampilkan hasil capture gambar berwarna\n",
    "        cv2.imshow('Input frame from the camera', frame)\n",
    "\n",
    "        # menampilkan hasil capture gambar grayscale\n",
    "        gray_frame = cv2.cvtColor(frame, cv2.COLOR_BGR2GRAY)\n",
    "        cv2.imshow('Grayscale input camera', gray_frame)\n",
    "\n",
    "        # jika ingin menyimpan frame, tekan tombol 'c' pada keyboard \n",
    "        if cv2.waitKey(20) & 0xFF == ord('c'):\n",
    "            frame_name = \"camera_frame_{}.png\".format(frame_index)\n",
    "            gray_frame_name = \"grayscale_camera_frame_{}.png\".format(frame_index)\n",
    "            cv2.imwrite(frame_name, frame)\n",
    "            cv2.imwrite(gray_frame_name, gray_frame)\n",
    "            frame_index += 1\n",
    "\n",
    "        # jika ingin keluar tekan tombol 'q'\n",
    "        if cv2.waitKey(20) & 0xFF == ord('q'):\n",
    "            break\n",
    "    else:\n",
    "        break\n",
    "\n",
    "# menutup proses capture dan window\n",
    "capture.release()\n",
    "cv2.destroyAllWindows()"
   ]
  }
 ],
 "metadata": {
  "interpreter": {
   "hash": "b89b5cfaba6639976dc87ff2fec6d58faec662063367e2c229c520fe71072417"
  },
  "kernelspec": {
   "display_name": "Python 3.10.11 64-bit",
   "language": "python",
   "name": "python3"
  },
  "language_info": {
   "codemirror_mode": {
    "name": "ipython",
    "version": 3
   },
   "file_extension": ".py",
   "mimetype": "text/x-python",
   "name": "python",
   "nbconvert_exporter": "python",
   "pygments_lexer": "ipython3",
   "version": "3.10.11"
  },
  "orig_nbformat": 4
 },
 "nbformat": 4,
 "nbformat_minor": 2
}
