{
 "cells": [
  {
   "cell_type": "code",
   "execution_count": 3,
   "metadata": {},
   "outputs": [
    {
     "name": "stdout",
     "output_type": "stream",
     "text": [
      "(99, 82, 3)\n",
      "Dimensions of the image - Height: 99, Width: 82, Channels: 3\n",
      "Total number of elements: 24354\n",
      "Total number of elements: 24354\n",
      "Image datatype: uint8\n",
      "Pixel at (6,40) - Red: 247, Green: 18, Blue: 36\n",
      "Pixel at (6,40) - Red: 247, Green: 18, Blue: 36\n",
      "Pixel at (6,40) - Red: 255, Green: 0, Blue: 0\n"
     ]
    }
   ],
   "source": [
    "import cv2\n",
    "\n",
    "#membaca file citra logo.png\n",
    "img=cv2.imread(\"logo.png\")\n",
    "\n",
    "#mendapatkan informasi ukuran citra\n",
    "dimensions = img.shape\n",
    "print(dimensions)\n",
    "(h, w, c) = img.shape\n",
    "print(\"Dimensions of the image - Height: {}, Width: {}, Channels: {}\".format(h, w, c))\n",
    "\n",
    "#mendapatkan nilai resolusi citra\n",
    "total_number_of_pixels = img.size\n",
    "print(\"Total number of elements: {}\".format(total_number_of_pixels))\n",
    "print(\"Total number of elements: {}\".format(h * w * c))\n",
    "\n",
    "#mendapatkan informasi tipe data citra\n",
    "image_dtype = img.dtype\n",
    "print(\"Image datatype: {}\".format(image_dtype))\n",
    "\n",
    "#memunculkan gambar pada jendela program \n",
    "#hingga ada tombol keyboard yang ditekan\n",
    "cv2.imshow(\"original image\", img)\n",
    "cv2.waitKey(0)\n",
    "\n",
    "#membaca nilai BGR pada koordinat piksel 6,40\n",
    "(b, g, r) = img[6, 40]\n",
    "print(\"Pixel at (6,40) - Red: {}, Green: {}, Blue: {}\".format(r, g, b))\n",
    "b = img[6, 40, 0]\n",
    "g = img[6, 40, 1]\n",
    "r = img[6, 40, 2]\n",
    "print(\"Pixel at (6,40) - Red: {}, Green: {}, Blue: {}\".format(r, g, b))\n",
    "\n",
    "#mulis nilai BGR pada koordinat 6,40 \n",
    "#dengan nilai BGR 0 0 255\n",
    "img[6, 40] = (0, 0, 255)\n",
    "(b, g, r) = img[6, 40]\n",
    "print(\"Pixel at (6,40) - Red: {}, Green: {}, Blue: {}\".format(r, g, b))\n",
    "\n",
    "#menampilkan bagian citra dari \n",
    "#posisi piksel 0 hingga 50\n",
    "#hingga ada tombol keyboard yang ditekan\n",
    "top_left_corner = img[0:50, 0:50]\n",
    "cv2.imshow(\"top left corner original\", top_left_corner)\n",
    "cv2.waitKey(0)\n",
    "\n",
    "#citra top_left_corner di tulis ulang pada\n",
    "#koordinat x = 20 hingga 70, y = 20 hingga 70\n",
    "#hingga ada tombol keyboard yang ditekan\n",
    "\n",
    "img[20:70, 20:70] = top_left_corner\n",
    "cv2.imshow(\"modified image\", img)\n",
    "cv2.waitKey(0)\n",
    "\n",
    "#menulis nilai BGR pada x = 0 hingga 50 dan\n",
    "#y = 0 hingga 50 dengan BGR 255, 0, 0 (biru)\n",
    "#hingga ada tombol keyboard yang ditekan\n",
    "img[0:50, 0:50] = (255, 0, 0)\n",
    "cv2.imshow(\"modified image\", img)\n",
    "cv2.waitKey(0)\n",
    "\n",
    "#menutup seluruh jendela program yang terbuka\n",
    "cv2.destroyAllWindows()\n"
   ]
  }
 ],
 "metadata": {
  "interpreter": {
   "hash": "b89b5cfaba6639976dc87ff2fec6d58faec662063367e2c229c520fe71072417"
  },
  "kernelspec": {
   "display_name": "Python 3.10.11 64-bit",
   "language": "python",
   "name": "python3"
  },
  "language_info": {
   "codemirror_mode": {
    "name": "ipython",
    "version": 3
   },
   "file_extension": ".py",
   "mimetype": "text/x-python",
   "name": "python",
   "nbconvert_exporter": "python",
   "pygments_lexer": "ipython3",
   "version": "3.10.11"
  },
  "orig_nbformat": 4
 },
 "nbformat": 4,
 "nbformat_minor": 2
}
