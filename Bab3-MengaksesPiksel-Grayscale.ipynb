{
 "cells": [
  {
   "cell_type": "code",
   "execution_count": 1,
   "metadata": {},
   "outputs": [
    {
     "name": "stdout",
     "output_type": "stream",
     "text": [
      "(99, 82)\n",
      "Dimensions of the image - Height: 99, Width: 82\n",
      "Total number of elements: 8118\n",
      "Total number of elements: 8118\n",
      "Image datatype: uint8\n",
      "Pixel at (6,40) - Intensity: 144\n",
      "Pixel at (6,40) - Intensity: 0\n"
     ]
    }
   ],
   "source": [
    "import cv2\n",
    "\n",
    "#membuka gambar dalam mode grayscale\n",
    "gray_img = cv2.imread('logo.png', cv2.IMREAD_GRAYSCALE)\n",
    "\n",
    "#mendapatkan nilai dimensi gambar\n",
    "dimensions = gray_img.shape\n",
    "print(dimensions)\n",
    "(h, w) = gray_img.shape\n",
    "print(\"Dimensions of the image - Height: {}, Width: {}\".format(h, w))\n",
    "\n",
    "#mendapatkan resolusi gambar\n",
    "total_number_of_pixels = gray_img.size\n",
    "print(\"Total number of elements: {}\".format(total_number_of_pixels))\n",
    "print(\"Total number of elements: {}\".format(h * w))\n",
    "\n",
    "\n",
    "image_dtype = gray_img.dtype\n",
    "print(\"Image datatype: {}\".format(image_dtype))\n",
    "cv2.imshow(\"original image\", gray_img)\n",
    "cv2.waitKey(0)\n",
    "\n",
    "i = gray_img[6, 40]\n",
    "print(\"Pixel at (6,40) - Intensity: {}\".format(i))\n",
    "\n",
    "gray_img[6, 40] = 0\n",
    "i = gray_img[6, 40]\n",
    "print(\"Pixel at (6,40) - Intensity: {}\".format(i))\n",
    "\n",
    "top_left_corner = gray_img[0:50, 0:50]\n",
    "cv2.imshow(\"top left corner original\", top_left_corner)\n",
    "cv2.waitKey(0)\n",
    "\n",
    "gray_img[20:70, 20:70] = top_left_corner\n",
    "cv2.imshow(\"modified image\", gray_img)\n",
    "cv2.waitKey(0)\n",
    "\n",
    "gray_img[0:50, 0:50] = 255\n",
    "cv2.imshow(\"modified image\", gray_img)\n",
    "cv2.waitKey(0)\n",
    "\n",
    "cv2.destroyAllWindows()\n"
   ]
  }
 ],
 "metadata": {
  "interpreter": {
   "hash": "b89b5cfaba6639976dc87ff2fec6d58faec662063367e2c229c520fe71072417"
  },
  "kernelspec": {
   "display_name": "Python 3.10.11 64-bit",
   "language": "python",
   "name": "python3"
  },
  "language_info": {
   "codemirror_mode": {
    "name": "ipython",
    "version": 3
   },
   "file_extension": ".py",
   "mimetype": "text/x-python",
   "name": "python",
   "nbconvert_exporter": "python",
   "pygments_lexer": "ipython3",
   "version": "3.10.11"
  },
  "orig_nbformat": 4
 },
 "nbformat": 4,
 "nbformat_minor": 2
}
